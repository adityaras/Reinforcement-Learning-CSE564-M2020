{
  "nbformat": 4,
  "nbformat_minor": 0,
  "metadata": {
    "colab": {
      "name": "RL HW1.ipynb",
      "provenance": [],
      "collapsed_sections": [],
      "authorship_tag": "ABX9TyMNMrDA/TpuLQqqlion4Ht7",
      "include_colab_link": true
    },
    "kernelspec": {
      "name": "python3",
      "display_name": "Python 3"
    }
  },
  "cells": [
    {
      "cell_type": "markdown",
      "metadata": {
        "id": "view-in-github",
        "colab_type": "text"
      },
      "source": [
        "<a href=\"https://colab.research.google.com/github/adityaras/Reinforcement-Learning-CSE564-M2020/blob/master/HW1/RL_HW1.ipynb\" target=\"_parent\"><img src=\"https://colab.research.google.com/assets/colab-badge.svg\" alt=\"Open In Colab\"/></a>"
      ]
    },
    {
      "cell_type": "code",
      "metadata": {
        "id": "K1E2e3F8jgLQ",
        "colab_type": "code",
        "colab": {}
      },
      "source": [
        "import numpy as np\n",
        "import matplotlib.pyplot as plt\n",
        "import random"
      ],
      "execution_count": 23,
      "outputs": []
    },
    {
      "cell_type": "code",
      "metadata": {
        "id": "4XcrrrfllP77",
        "colab_type": "code",
        "colab": {}
      },
      "source": [
        "sum_rt=[0]*1000\n",
        "for j in range(2000):  \n",
        "  q_star=[]\n",
        "  for i1 in range(10):\n",
        "    q_star.append(np.random.normal(0,1))\n",
        "  Q_t=[0]*10\n",
        "  times_picked=[0]*10\n",
        "  #epsilon=0.1\n",
        "  for i in range(1000):\n",
        "    prob=random.randint(1,10)\n",
        "    if prob == 1:\n",
        "      ind=random.randint(0,9)    \n",
        "    else:\n",
        "      ind=np.argmax(Q_t)\n",
        "    times_picked[ind]+=1\n",
        "    Q_t[ind]=(Q_t[ind]*((times_picked[ind]-1)/(times_picked[ind])))+(np.random.normal(q_star[ind],1)/times_picked[ind])\n",
        "    sum_rt[i]+=np.random.normal(q_star[ind],1)\n",
        "for k in range(1000):\n",
        "  sum_rt[k]=sum_rt[k]/2000\n",
        "\n"
      ],
      "execution_count": 24,
      "outputs": []
    },
    {
      "cell_type": "code",
      "metadata": {
        "id": "4cYt2FBd5sKh",
        "colab_type": "code",
        "colab": {
          "base_uri": "https://localhost:8080/",
          "height": 279
        },
        "outputId": "3d8cb763-c8db-4967-842e-01c4fb8a61ac"
      },
      "source": [
        "plt.plot(sum_rt)\n",
        "plt.ylabel(\"Average Reward\")\n",
        "plt.xlabel(\"Time Steps\")\n",
        "plt.show()"
      ],
      "execution_count": 25,
      "outputs": [
        {
          "output_type": "display_data",
          "data": {
            "image/png": "[encoded data removed]",
            "text/plain": [
              "<Figure size 432x288 with 1 Axes>"
            ]
          },
          "metadata": {
            "tags": [],
            "needs_background": "light"
          }
        }
      ]
    }
  ]
}